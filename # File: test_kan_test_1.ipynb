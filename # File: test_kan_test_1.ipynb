# File: test_kan_test_1.ipynb

{
    "cells": [
        {
            "cell_type": "code",
            "metadata": {},
            "source": [
                "import torch",
                "import unittest",
                "from torch.utils.data import DataLoader, TensorDataset",
                "from kan_test_1 import MLP, MLP_2, MLP_4, KAN, create_dataset, f1"
            ]
        },
        {
            "cell_type": "code",
            "metadata": {},
            "source": [
                "class TestKanTest1(unittest.TestCase):",
                "    def setUp(self):",
                "        # Create a mock dataset",
                "        self.dataset = create_dataset(f1, n_var=1, ranges=[-1, 1])",
                "        self.x_train = self.dataset['train_input']",
                "        self.y_train = self.dataset['train_label']",
                "        self.x_test = self.dataset['test_input']",
                "        self.y_test = self.dataset['test_label']",
                "        self.train_loader = DataLoader(TensorDataset(self.x_train, self.y_train), batch_size=32, shuffle=True)",
                "        self.test_loader = DataLoader(TensorDataset(self.x_test, self.y_test), batch_size=128)"
            ]
        },
        {
            "cell_type": "code",
            "metadata": {},
            "source": [
                "    def test_mlp_initialization(self):",
                "        model = MLP(input_dim=1, hidden_dim=64, output_dim=1)",
                "        self.assertIsInstance(model, MLP)"
            ]
        },
        {
            "cell_type": "code",
            "metadata": {},
            "source": [
                "    def test_mlp_training(self):",
                "        model = MLP(input_dim=1, hidden_dim=64, output_dim=1)",
                "        optimizer = torch.optim.SGD(model.parameters(), lr=0.01)",
                "        loss_fn = torch.nn.MSELoss()",
                "        for epoch in range(2):  # Train for 2 epochs",
                "            for xb, yb in self.train_loader:",
                "                pred = model(xb)",
                "                loss = loss_fn(pred, yb)",
                "                optimizer.zero_grad()",
                "                loss.backward()",
                "                optimizer.step()",
                "        self.assertTrue(True)  # If no exception, training works"
            ]
        },
        {
            "cell_type": "code",
            "metadata": {},
            "source": [
                "    def test_mlp_2_training(self):",
                "        model = MLP_2(input_dim=1, hidden_dim=64, output_dim=1)",
                "        optimizer = torch.optim.SGD(model.parameters(), lr=0.01)",
                "        loss_fn = torch.nn.MSELoss()",
                "        for epoch in range(2):",
                "            for xb, yb in self.train_loader:",
                "                pred = model(xb)",
                "                loss = loss_fn(pred, yb)",
                "                optimizer.zero_grad()",
                "                loss.backward()",
                "                optimizer.step()",
                "        self.assertTrue(True)"
            ]
        },
        {
            "cell_type": "code",
            "metadata": {},
            "source": [
                "    def test_mlp_4_training(self):",
                "        model = MLP_4(input_dim=1, hidden_dim=64, output_dim=1)",
                "        optimizer = torch.optim.SGD(model.parameters(), lr=0.01)",
                "        loss_fn = torch.nn.MSELoss()",
                "        for epoch in range(2):",
                "            for xb, yb in self.train_loader:",
                "                pred = model(xb)",
                "                loss = loss_fn(pred, yb)",
                "                optimizer.zero_grad()",
                "                loss.backward()",
                "                optimizer.step()",
                "        self.assertTrue(True)"
            ]
        },
        {
            "cell_type": "code",
            "metadata": {},
            "source": [
                "    def test_kan_training(self):",
                "        model = KAN(width=[1, 4, 1])",
                "        model.fit(self.dataset, steps=10)  # Fit for 10 steps",
                "        with torch.no_grad():",
                "            pred = model(self.x_test)",
                "            self.assertEqual(pred.shape, self.y_test.shape)"
            ]
        },
        {
            "cell_type": "code",
            "metadata": {},
            "source": [
                "if __name__ == '__main__':",
                "    unittest.main(argv=[''], exit=False)"
            ]
        }
    ],
    "metadata": {
        "kernelspec": {
            "display_name": "Python 3",
            "language": "python",
            "name": "python3"
        },
        "language_info": {
            "codemirror_mode": {
                "name": "ipython",
                "version": 3
            },
            "file_extension": ".py",
            "mimetype": "text/x-python",
            "name": "python",
            "nbconvert_exporter": "python",
            "pygments_lexer": "ipython3",
            "version": "3.8.10"
        }
    },
    "nbformat": 4,
    "nbformat_minor": 4
}